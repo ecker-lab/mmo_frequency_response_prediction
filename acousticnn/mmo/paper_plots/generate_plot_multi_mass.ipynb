{
 "cells": [
  {
   "cell_type": "code",
   "execution_count": 1,
   "metadata": {},
   "outputs": [],
   "source": [
    "import numpy as np\n",
    "np.set_printoptions(formatter={'float': lambda x: \"{0:0.3f}\".format(x)})\n",
    "from acousticnn.mmo import get_dataloader, Iter_Dataset\n",
    "from acousticnn.mmo import train\n",
    "from acousticnn.utils.builder import build_opti_sche, build_model\n",
    "from acousticnn.utils.logger import init_train_logger, print_log\n",
    "from acousticnn.utils.argparser import get_args, get_config\n",
    "from torchinfo import summary\n",
    "import wandb \n",
    "import time\n",
    "import os\n",
    "import torch\n",
    "import matplotlib.pyplot as plt"
   ]
  },
  {
   "cell_type": "code",
   "execution_count": 2,
   "metadata": {},
   "outputs": [],
   "source": [
    "from matplotlib import rcParams\n",
    "rcParams['font.family'] = 'serif'\n",
    "rcParams['axes.labelsize'] = 9\n",
    "rcParams['axes.titlesize'] = 9\n",
    "rcParams['xtick.labelsize'] = 9\n",
    "rcParams['ytick.labelsize'] = 9\n",
    "rcParams[\"figure.figsize\"] = (10 / 2.54, 8 / 2.54)"
   ]
  },
  {
   "cell_type": "code",
   "execution_count": 3,
   "metadata": {},
   "outputs": [],
   "source": [
    "def plot_loss(losses_per_f, f, ax=None, quantile=None):\n",
    "    if ax is None:\n",
    "        fig, ax = plt.subplots(1, 1)\n",
    "    losses_per_f = losses_per_f.transpose(0, 2, 1).reshape(-1, 200)\n",
    "    mean = np.mean(losses_per_f, axis=0)\n",
    "    std = np.std(losses_per_f, axis=0)\n",
    "    ax.semilogx(f, mean)\n",
    "    if quantile is not None:\n",
    "        quantiles = np.quantile(losses_per_f, [0+quantile, 1-quantile], axis=0)\n",
    "        ax.fill_between(f, quantiles[0], quantiles[1], alpha=0.2)\n",
    "\n",
    "    ax.set_xlabel('Angular frequency in rad/s')\n",
    "    ax.set_ylabel('rmse dB re 1m')\n",
    "    return ax\n",
    "\n",
    "def plot_results(prediction, amplitude, f, ax=None, quantile=None, linestyle = '--'):\n",
    "    if ax is None:\n",
    "        fig, ax = plt.subplots(1, 1, figsize=(7, 12))\n",
    "\n",
    "    ax.semilogx(f, prediction, c='black', alpha = 0.8)\n",
    "    ax.semilogx(f, amplitude, c='red', linestyle = linestyle)\n",
    "\n",
    "    ax.grid(True)\n",
    "    ax.set_xlabel('Angular frequency in rad/s')\n",
    "    ax.set_ylabel('Amplitude in dB re 1m')\n",
    "    return ax"
   ]
  },
  {
   "cell_type": "code",
   "execution_count": 4,
   "metadata": {},
   "outputs": [
    {
     "name": "stdout",
     "output_type": "stream",
     "text": [
      "{'n_masses': 4, 'sample_f': False, 'f_per_sample': 200, 'sample_m': True, 'm_range': (1, 25), 'sample_d': True, 'd_range': (0.1, 1), 'sample_k': True, 'k_range': (1, 30), 'normalize': True, 'normalize_factor': 10, 'f_range': (-1.5, 1)}\n",
      "1 25\n",
      "0.1 1\n",
      "1 30\n",
      "fix_f\n",
      "Normalize\n",
      "True\n",
      "tensor(1.7482) tensor(2.4163)\n",
      "tensor(12.9785) tensor(6.9809)\n",
      "tensor(0.5434) tensor(0.2591)\n",
      "tensor(15.3790) tensor(8.3880)\n",
      "tensor(0.1859) tensor(2.4163)\n",
      "tensor(-0.0086) tensor(2.7924)\n",
      "tensor(-0.0660) tensor(2.5907)\n",
      "tensor(-0.0403) tensor(2.7960)\n"
     ]
    }
   ],
   "source": [
    "args = get_args([\"--config\", \"configs/explicit_mlp.yaml\"])\n",
    "args.encoding = \"none\"\n",
    "config = get_config(\"configs/implicit_transformer.yaml\")\n",
    "\n",
    "def get_dataloader_helper(n_masses, n_samples, test, batch_size):\n",
    "    np.random.seed(args.seed)\n",
    "    torch.manual_seed(args.seed)\n",
    "    parameters_dataset = {\"n_masses\": n_masses, \n",
    "            \"sample_f\": False,\n",
    "            \"f_per_sample\": 200,\n",
    "            \"sample_m\": True,\n",
    "            \"m_range\": (1, 25),\n",
    "            \"sample_d\": True,\n",
    "            \"d_range\": (0.1, 1),\n",
    "            \"sample_k\": True,\n",
    "            \"k_range\": (1, 30),\n",
    "            \"normalize\": False,\n",
    "            \"normalize_factor\": 10,\n",
    "            \"f_range\": (-1.5, 1)\n",
    "    }    \n",
    "    if args.encoding == \"none\":\n",
    "        parameters_dataset[\"normalize\"] = True\n",
    "        parameters_dataset[\"normalize_factor\"] = 10\n",
    "        config.model.input_encoding = \"none\"\n",
    "    elif args.encoding == \"random\":\n",
    "        parameters_dataset[\"normalize\"] = True\n",
    "        parameters_dataset[\"normalize_factor\"] = 10\n",
    "        config.model.input_encoding = \"random\"\n",
    "    elif args.encoding == \"sin\":\n",
    "        parameters_dataset[\"normalize\"] = True\n",
    "        parameters_dataset[\"normalize_factor\"] = 100\n",
    "        config.model.input_encoding = \"sin\"\n",
    "    else:\n",
    "        raise NotImplementedError\n",
    "    return get_dataloader(args, config, test=test, n_samples=n_samples, parameters=parameters_dataset, batch_size=batch_size)\n",
    "valloader = get_dataloader_helper(4, 1000, True, 100)\n",
    "f = np.logspace(-1.5, 1, 200)"
   ]
  },
  {
   "cell_type": "code",
   "execution_count": 5,
   "metadata": {},
   "outputs": [],
   "source": [
    "def generate_prediction():\n",
    "    pred, amp, losses, losses_per_f = [], [], [], []\n",
    "    with torch.no_grad():\n",
    "        for frequency, parameters, amplitude in valloader: \n",
    "            frequency, parameters, amplitude = frequency.to(args.device), [par.to(args.device) for par in parameters], amplitude.to(args.device)\n",
    "            prediction = net(frequency, parameters) # B x num_masses x num_frequencies    \n",
    "            prediction = prediction * 10\n",
    "            amplitude = amplitude * 10\n",
    "            loss = torch.nn.functional.mse_loss(prediction, amplitude)\n",
    "            amplitude, prediction = amplitude.cpu(), prediction.cpu()\n",
    "            pred.append(prediction), amp.append(amplitude), losses.append(loss.cpu())\n",
    "            losses_per_f.append(torch.nn.functional.mse_loss(prediction, amplitude, reduction=\"none\").detach().cpu().numpy())\n",
    "\n",
    "    losses_per_f = np.vstack(losses_per_f)\n",
    "    rmse_per_f = np.sqrt(losses_per_f)\n",
    "    prediction, amplitude = np.vstack(pred), np.vstack(amp)\n",
    "    print(np.mean(losses_per_f)) \n",
    "    return prediction, amplitude, rmse_per_f"
   ]
  },
  {
   "attachments": {},
   "cell_type": "markdown",
   "metadata": {},
   "source": [
    "## Transfer TODO"
   ]
  },
  {
   "cell_type": "code",
   "execution_count": 8,
   "metadata": {},
   "outputs": [
    {
     "name": "stdout",
     "output_type": "stream",
     "text": [
      "0.0008549094\n",
      "177 668\n",
      "0.005272591 0.040901616\n"
     ]
    }
   ],
   "source": [
    "path = r\"C:\\Users\\Schultz\\NextCloud\\WorkingDir\\Projects\\D2A\\Code\\spp_ai_acoustics\\acousticnn\\mmo\\experiments\\mass_variation\\checkpoint_best\"\n",
    "# transformer\n",
    "args.device = \"cpu\"\n",
    "config = get_config(\"configs/implicit_transformer.yaml\")\n",
    "config.model.input_encoding = \"none\"\n",
    "net = build_model(valloader, args, config)\n",
    "net.load_state_dict(torch.load(path, map_location= \"cpu\")[\"model_state_dict\"])\n",
    "prediction_cond2, amplitude_cond2, losses_per_f_cond2 = generate_prediction()\n",
    "\n",
    "\n",
    "loss_per_sample4 = np.mean(np.mean(losses_per_f_cond2, axis=1), axis=1)\n",
    "print(np.argmin(loss_per_sample4), np.argmax(loss_per_sample4))\n",
    "print(loss_per_sample4[np.argmin(loss_per_sample4)], loss_per_sample4[np.argmax(loss_per_sample4)])"
   ]
  },
  {
   "cell_type": "code",
   "execution_count": 9,
   "metadata": {},
   "outputs": [
    {
     "data": {
      "image/png": "[encoded data removed]",
      "text/plain": [
       "<Figure size 720x360 with 1 Axes>"
      ]
     },
     "metadata": {
      "needs_background": "light"
     },
     "output_type": "display_data"
    }
   ],
   "source": [
    "fig, ax = plt.subplots(1, 1, figsize=(10,5))\n",
    "plot = plot_loss(losses_per_f_cond2, f, ax, quantile=0.15)"
   ]
  },
  {
   "cell_type": "code",
   "execution_count": 10,
   "metadata": {},
   "outputs": [
    {
     "ename": "IndexError",
     "evalue": "index 2 is out of bounds for axis 1 with size 2",
     "output_type": "error",
     "traceback": [
      "\u001b[1;31m---------------------------------------------------------------------------\u001b[0m",
      "\u001b[1;31mIndexError\u001b[0m                                Traceback (most recent call last)",
      "\u001b[1;32mc:\\Users\\Schultz\\NextCloud\\WorkingDir\\Projects\\D2A\\Code\\spp_ai_acoustics\\acousticnn\\mmo\\generate_plot_multi_mass.ipynb Cell 9\u001b[0m in \u001b[0;36m<cell line: 5>\u001b[1;34m()\u001b[0m\n\u001b[0;32m      <a href='vscode-notebook-cell:/c%3A/Users/Schultz/NextCloud/WorkingDir/Projects/D2A/Code/spp_ai_acoustics/acousticnn/mmo/generate_plot_multi_mass.ipynb#X11sZmlsZQ%3D%3D?line=2'>3</a>\u001b[0m num\u001b[39m=\u001b[39m \u001b[39m973\u001b[39m\n\u001b[0;32m      <a href='vscode-notebook-cell:/c%3A/Users/Schultz/NextCloud/WorkingDir/Projects/D2A/Code/spp_ai_acoustics/acousticnn/mmo/generate_plot_multi_mass.ipynb#X11sZmlsZQ%3D%3D?line=3'>4</a>\u001b[0m \u001b[39m#plot = plot_results(prediction_cond1[num][:,i], amplitude_cond1[num][:,i], f, ax[0])\u001b[39;00m\n\u001b[1;32m----> <a href='vscode-notebook-cell:/c%3A/Users/Schultz/NextCloud/WorkingDir/Projects/D2A/Code/spp_ai_acoustics/acousticnn/mmo/generate_plot_multi_mass.ipynb#X11sZmlsZQ%3D%3D?line=4'>5</a>\u001b[0m plot \u001b[39m=\u001b[39m plot_results(prediction_cond2[num][:,i], amplitude_cond2[num][:,i], f, ax)\n",
      "\u001b[1;31mIndexError\u001b[0m: index 2 is out of bounds for axis 1 with size 2"
     ]
    },
    {
     "data": {
      "image/png": "[encoded data removed]",
      "text/plain": [
       "<Figure size 720x360 with 1 Axes>"
      ]
     },
     "metadata": {
      "needs_background": "light"
     },
     "output_type": "display_data"
    }
   ],
   "source": [
    "fig, ax = plt.subplots(1, 1, figsize=(10, 5))\n",
    "i=[0,1,2, 3]\n",
    "num= 973\n",
    "#plot = plot_results(prediction_cond1[num][:,i], amplitude_cond1[num][:,i], f, ax[0])\n",
    "plot = plot_results(prediction_cond2[num][:,i], amplitude_cond2[num][:,i], f, ax)"
   ]
  },
  {
   "attachments": {},
   "cell_type": "markdown",
   "metadata": {},
   "source": [
    "### evaluate on different numbers of masses"
   ]
  },
  {
   "cell_type": "code",
   "execution_count": 11,
   "metadata": {},
   "outputs": [
    {
     "name": "stdout",
     "output_type": "stream",
     "text": [
      "{'n_masses': 2, 'sample_f': False, 'f_per_sample': 200, 'sample_m': True, 'm_range': (1, 25), 'sample_d': True, 'd_range': (0.1, 1), 'sample_k': True, 'k_range': (1, 30), 'normalize': True, 'normalize_factor': 10, 'f_range': (-1.5, 1)}\n",
      "1 25\n",
      "0.1 1\n",
      "1 30\n",
      "fix_f\n",
      "Normalize\n",
      "True\n",
      "tensor(1.7482) tensor(2.4163)\n",
      "tensor(13.0873) tensor(7.0796)\n",
      "tensor(0.5433) tensor(0.2566)\n",
      "tensor(15.3022) tensor(8.4322)\n",
      "tensor(0.1859) tensor(2.4163)\n",
      "tensor(0.0349) tensor(2.8318)\n",
      "tensor(-0.0673) tensor(2.5663)\n",
      "tensor(-0.0659) tensor(2.8107)\n",
      "0.0008549094\n",
      "177 668\n",
      "0.005272591 0.040901616\n"
     ]
    }
   ],
   "source": [
    "path = r\"C:\\Users\\Schultz\\NextCloud\\WorkingDir\\Projects\\D2A\\Code\\spp_ai_acoustics\\acousticnn\\mmo\\experiments\\mass_variation\\checkpoint_best\"\n",
    "# transformer\n",
    "config = get_config(\"configs/implicit_transformer.yaml\")\n",
    "config.model.input_encoding = \"none\"\n",
    "args.device = \"cpu\"\n",
    "net = build_model(valloader, args, config)\n",
    "net.load_state_dict(torch.load(path, map_location= \"cpu\")[\"model_state_dict\"])\n",
    "valloader = get_dataloader_helper(2, 1000, True, 16)\n",
    "prediction_cond1, amplitude_cond1, losses_per_f_cond1 = generate_prediction()\n",
    "loss_per_sample1 = np.mean(np.mean(losses_per_f_cond1, axis=1), axis=1)\n",
    "print(np.argmin(loss_per_sample1), np.argmax(loss_per_sample1))\n",
    "print(loss_per_sample1[np.argmin(loss_per_sample1)], loss_per_sample1[np.argmax(loss_per_sample1)])"
   ]
  },
  {
   "cell_type": "code",
   "execution_count": 12,
   "metadata": {},
   "outputs": [
    {
     "data": {
      "image/png": "[encoded data removed]",
      "text/plain": [
       "<Figure size 432x288 with 1 Axes>"
      ]
     },
     "metadata": {
      "needs_background": "light"
     },
     "output_type": "display_data"
    },
    {
     "data": {
      "image/png": "[encoded data removed]",
      "text/plain": [
       "<Figure size 432x288 with 1 Axes>"
      ]
     },
     "metadata": {
      "needs_background": "light"
     },
     "output_type": "display_data"
    }
   ],
   "source": [
    "# MLP plots\n",
    "idx_min_loss_1 = np.argmin(loss_per_sample4)\n",
    "idx_max_loss_1 = np.argmax(loss_per_sample4)\n",
    "legend_font_size = 6\n",
    "fig, ax = plt.subplots(1, 1)\n",
    "i=[0]\n",
    "num= idx_min_loss_1\n",
    "plot = plot_results(prediction_cond1[num][:,i], amplitude_cond1[num][:,i], f, ax)\n",
    "plot.set_title(\"MLP - Best prediction\")\n",
    "plot.legend([\"Ref. $x_1$\",\"Pred. $x_1$\"], prop = {'size': legend_font_size}, loc = 'lower left')\n",
    "plt.tight_layout()\n",
    "fig.savefig(\"samples_MLP_Best.png\", format='png', dpi = 600)\n",
    "fig.savefig(\"samples_MLP_Best.pdf\", format='pdf')\n",
    "\n",
    "fig, ax = plt.subplots(1, 1)\n",
    "i=[0]\n",
    "num= idx_max_loss_1\n",
    "plot = plot_results(prediction_cond1[num][:,i], amplitude_cond1[num][:,i], f, ax)\n",
    "plot.set_title(\"MLP\")\n",
    "plot.legend([\"Ref. $x_1$\",\"Pred. $x_1$\"], prop = {'size': legend_font_size}, loc = 'lower left')\n",
    "plt.tight_layout()\n",
    "fig.savefig(\"samples_MLP_Worst.png\", format='png', dpi = 600)\n",
    "fig.savefig(\"samples_MLP_Worst.pdf\", format='pdf')"
   ]
  },
  {
   "cell_type": "code",
   "execution_count": 13,
   "metadata": {},
   "outputs": [
    {
     "name": "stdout",
     "output_type": "stream",
     "text": [
      "{'n_masses': 3, 'sample_f': False, 'f_per_sample': 200, 'sample_m': True, 'm_range': (1, 25), 'sample_d': True, 'd_range': (0.1, 1), 'sample_k': True, 'k_range': (1, 30), 'normalize': True, 'normalize_factor': 10, 'f_range': (-1.5, 1)}\n",
      "1 25\n",
      "0.1 1\n",
      "1 30\n",
      "fix_f\n",
      "Normalize\n",
      "True\n",
      "tensor(1.7482) tensor(2.4163)\n",
      "tensor(13.1018) tensor(7.0143)\n",
      "tensor(0.5403) tensor(0.2575)\n",
      "tensor(15.3528) tensor(8.4110)\n",
      "tensor(0.1859) tensor(2.4163)\n",
      "tensor(0.0407) tensor(2.8057)\n",
      "tensor(-0.0971) tensor(2.5747)\n",
      "tensor(-0.0491) tensor(2.8037)\n",
      "0.009000413\n",
      "0 354\n",
      "0.011266499 0.2609525\n"
     ]
    }
   ],
   "source": [
    "valloader = get_dataloader_helper(3, 1000, True, 16)\n",
    "prediction_cond2, amplitude_cond2, losses_per_f_cond2 = generate_prediction()\n",
    "loss_per_sample2 = np.mean(np.mean(losses_per_f_cond2, axis=1), axis=1)\n",
    "print(np.argmin(loss_per_sample2), np.argmax(loss_per_sample2))\n",
    "print(loss_per_sample2[np.argmin(loss_per_sample2)], loss_per_sample2[np.argmax(loss_per_sample2)])"
   ]
  },
  {
   "cell_type": "code",
   "execution_count": 14,
   "metadata": {},
   "outputs": [
    {
     "name": "stdout",
     "output_type": "stream",
     "text": [
      "{'n_masses': 5, 'sample_f': False, 'f_per_sample': 200, 'sample_m': True, 'm_range': (1, 25), 'sample_d': True, 'd_range': (0.1, 1), 'sample_k': True, 'k_range': (1, 30), 'normalize': True, 'normalize_factor': 10, 'f_range': (-1.5, 1)}\n",
      "1 25\n",
      "0.1 1\n",
      "1 30\n",
      "fix_f\n"
     ]
    },
    {
     "name": "stdout",
     "output_type": "stream",
     "text": [
      "Normalize\n",
      "True\n",
      "tensor(1.7482) tensor(2.4163)\n",
      "tensor(12.9273) tensor(6.9394)\n",
      "tensor(0.5447) tensor(0.2604)\n",
      "tensor(15.3032) tensor(8.4254)\n",
      "tensor(0.1859) tensor(2.4163)\n",
      "tensor(-0.0291) tensor(2.7758)\n",
      "tensor(-0.0534) tensor(2.6042)\n",
      "tensor(-0.0656) tensor(2.8085)\n",
      "0.040158603\n",
      "255 575\n",
      "0.03146612 0.4603897\n"
     ]
    }
   ],
   "source": [
    "valloader = get_dataloader_helper(5, 1000, True, 16)\n",
    "prediction_cond3, amplitude_cond3, losses_per_f_cond3 = generate_prediction()\n",
    "loss_per_sample3 = np.mean(np.mean(losses_per_f_cond3, axis=1), axis=1)\n",
    "print(np.argmin(loss_per_sample3), np.argmax(loss_per_sample3))\n",
    "print(loss_per_sample3[np.argmin(loss_per_sample3)], loss_per_sample3[np.argmax(loss_per_sample3)])"
   ]
  },
  {
   "cell_type": "code",
   "execution_count": 15,
   "metadata": {},
   "outputs": [
    {
     "name": "stdout",
     "output_type": "stream",
     "text": [
      "{'n_masses': 6, 'sample_f': False, 'f_per_sample': 200, 'sample_m': True, 'm_range': (1, 25), 'sample_d': True, 'd_range': (0.1, 1), 'sample_k': True, 'k_range': (1, 30), 'normalize': True, 'normalize_factor': 10, 'f_range': (-1.5, 1)}\n",
      "1 25\n",
      "0.1 1\n",
      "1 30\n",
      "fix_f\n"
     ]
    },
    {
     "name": "stdout",
     "output_type": "stream",
     "text": [
      "Normalize\n",
      "True\n",
      "tensor(1.7482) tensor(2.4163)\n",
      "tensor(12.9130) tensor(6.9435)\n",
      "tensor(0.5458) tensor(0.2604)\n",
      "tensor(15.3804) tensor(8.4848)\n",
      "tensor(0.1859) tensor(2.4163)\n",
      "tensor(-0.0348) tensor(2.7774)\n",
      "tensor(-0.0416) tensor(2.6039)\n",
      "tensor(-0.0399) tensor(2.8283)\n",
      "0.09128899\n",
      "266 234\n",
      "0.053041905 0.5687142\n"
     ]
    }
   ],
   "source": [
    "valloader = get_dataloader_helper(6, 1000, True, 16)\n",
    "prediction_cond4, amplitude_cond4, losses_per_f_cond4 = generate_prediction()\n",
    "loss_per_sample4 = np.mean(np.mean(losses_per_f_cond4, axis=1), axis=1)\n",
    "print(np.argmin(loss_per_sample4), np.argmax(loss_per_sample4))\n",
    "print(loss_per_sample4[np.argmin(loss_per_sample4)], loss_per_sample4[np.argmax(loss_per_sample4)])"
   ]
  },
  {
   "cell_type": "code",
   "execution_count": 16,
   "metadata": {},
   "outputs": [
    {
     "data": {
      "text/plain": [
       "<Figure size 432x288 with 0 Axes>"
      ]
     },
     "metadata": {},
     "output_type": "display_data"
    }
   ],
   "source": [
    "plot = plot_loss(losses_per_f_cond1, f, ax, quantile=0.1)\n",
    "plot = plot_loss(losses_per_f_cond2, f, ax, quantile=0.1)\n",
    "plot.set_title(\"Error\")\n",
    "plot.legend([\"mean - Grid appr.\",\"90 % quant.\", \"mean - Querry appr.\", \" 90 % quant.\"], ncol = 1, prop = {'size': 9}, loc = 'upper left')\n",
    "plot.set_ylim([0.0, 5.0])\n",
    "plt.tight_layout()\n",
    "fig.savefig(\"losses_query_fixed.png\", format='png', dpi = 600)"
   ]
  },
  {
   "cell_type": "code",
   "execution_count": 24,
   "metadata": {},
   "outputs": [
    {
     "name": "stderr",
     "output_type": "stream",
     "text": [
      "C:\\Users\\Schultz\\AppData\\Local\\Temp\\ipykernel_11884\\634719644.py:9: UserWarning: The handle <matplotlib.collections.PolyCollection object at 0x0000025320D7BA30> has a label of '_' which cannot be automatically added to the legend.\n",
      "  ax.legend(legend_labels, ncol = 1, prop = {'size': legend_font_size}, loc = 'upper left')\n",
      "C:\\Users\\Schultz\\AppData\\Local\\Temp\\ipykernel_11884\\634719644.py:9: UserWarning: The handle <matplotlib.collections.PolyCollection object at 0x0000025320D8B100> has a label of '_' which cannot be automatically added to the legend.\n",
      "  ax.legend(legend_labels, ncol = 1, prop = {'size': legend_font_size}, loc = 'upper left')\n",
      "C:\\Users\\Schultz\\AppData\\Local\\Temp\\ipykernel_11884\\634719644.py:9: UserWarning: The handle <matplotlib.collections.PolyCollection object at 0x0000025320D8B790> has a label of '_' which cannot be automatically added to the legend.\n",
      "  ax.legend(legend_labels, ncol = 1, prop = {'size': legend_font_size}, loc = 'upper left')\n",
      "C:\\Users\\Schultz\\AppData\\Local\\Temp\\ipykernel_11884\\634719644.py:9: UserWarning: The handle <matplotlib.collections.PolyCollection object at 0x0000025320D8BE20> has a label of '_' which cannot be automatically added to the legend.\n",
      "  ax.legend(legend_labels, ncol = 1, prop = {'size': legend_font_size}, loc = 'upper left')\n"
     ]
    },
    {
     "data": {
      "image/png": "[encoded data removed]",
      "text/plain": [
       "<Figure size 153.071x153.071 with 1 Axes>"
      ]
     },
     "metadata": {
      "needs_background": "light"
     },
     "output_type": "display_data"
    }
   ],
   "source": [
    "rcParams[\"text.usetex\"] = True\n",
    "\n",
    "fig, ax = plt.subplots(1, 1, figsize=(5.4 / 2.54, 5.4 / 2.54))\n",
    "plot = plot_loss(losses_per_f_cond1, f, ax, quantile=0.1)\n",
    "plot = plot_loss(losses_per_f_cond2, f, ax, quantile=0.1)\n",
    "plot = plot_loss(losses_per_f_cond3, f, ax, quantile=0.1)\n",
    "plot = plot_loss(losses_per_f_cond4, f, ax, quantile=0.1)\n",
    "legend_labels = [\"mean - 2 masses\", \"_\", \"mean - 3 masses\", \"_\", \"mean - 5 masses\", \"_\", \"mean - 6 masses\", \"_\"]\n",
    "ax.legend(legend_labels, ncol = 1, prop = {'size': legend_font_size}, loc = 'upper left')\n",
    "plot.set_ylim([0.0, 2.0])\n",
    "#ax.grid(True)\n",
    "plt.tight_layout()\n",
    "fig.savefig(\"losses.png\", format='png', dpi = 600)\n",
    "fig.savefig(\"multi_masses.pdf\", format='pdf')"
   ]
  },
  {
   "cell_type": "code",
   "execution_count": 18,
   "metadata": {},
   "outputs": [
    {
     "data": {
      "image/png": "[encoded data removed]",
      "text/plain": [
       "<Figure size 153.071x153.071 with 1 Axes>"
      ]
     },
     "metadata": {
      "needs_background": "light"
     },
     "output_type": "display_data"
    }
   ],
   "source": [
    "# Transformer plots\n",
    "idx_min_loss_1 = np.argmin(loss_per_sample1)\n",
    "idx_max_loss_1 = np.argmax(loss_per_sample1)\n",
    "\n",
    "\n",
    "legend_font_size = 6\n",
    "fig, ax = plt.subplots(1, 1, figsize=(5.4 / 2.54, 5.4 / 2.54))\n",
    "i=[0]\n",
    "num= idx_max_loss_1\n",
    "plot = plot_results(prediction_cond1[num][:,i], amplitude_cond1[num][:,i], f, ax)\n",
    "\n",
    "legend_labels = [\"Pred.\", \"Ref.\"]\n",
    "\n",
    "plot.set_title(\"2 masses\")\n",
    "plot.legend(legend_labels, prop = {'size': legend_font_size}, loc = 'lower left')\n",
    "plt.tight_layout()\n",
    "fig.savefig(\"samples_transformer_n2.png\", format='png', dpi = 600)\n",
    "fig.savefig(\"samples_transformer_n2.pdf\", format='pdf')"
   ]
  },
  {
   "cell_type": "code",
   "execution_count": 19,
   "metadata": {},
   "outputs": [
    {
     "data": {
      "image/png": "[encoded data removed]",
      "text/plain": [
       "<Figure size 153.071x153.071 with 1 Axes>"
      ]
     },
     "metadata": {
      "needs_background": "light"
     },
     "output_type": "display_data"
    }
   ],
   "source": [
    "# Transformer plots\n",
    "idx_min_loss_1 = np.argmin(loss_per_sample1)\n",
    "idx_max_loss_1 = np.argmax(loss_per_sample1)\n",
    "\n",
    "idx_min_loss_2 = np.argmin(loss_per_sample2)\n",
    "idx_max_loss_2 = np.argmax(loss_per_sample2)\n",
    "\n",
    "legend_font_size = 6\n",
    "fig, ax = plt.subplots(1, 1, figsize=(5.4 / 2.54, 5.4 / 2.54))\n",
    "i=[0]\n",
    "num= idx_max_loss_1\n",
    "plot = plot_results(prediction_cond1[num][:,i], amplitude_cond1[num][:,i], f, ax, linestyle= \"dashed\")\n",
    "\n",
    "num= idx_max_loss_2\n",
    "plot = plot_results(prediction_cond2[num][:,i], amplitude_cond2[num][:,i], f, ax, linestyle= \":\")\n",
    "\n",
    "legend_labels = [\"Pred. n=2\", \"Ref. n=2\", \"Pred. n=3\", \"Ref. n=3\"]\n",
    "\n",
    "plot.set_title(\"2 and 3 masses\")\n",
    "plot.legend(legend_labels, prop = {'size': legend_font_size}, loc = 'lower left')\n",
    "plt.tight_layout()\n",
    "fig.savefig(\"samples_transformer_n2_3.png\", format='png', dpi = 600)\n",
    "fig.savefig(\"samples_transformer_n2_3.pdf\", format='pdf')"
   ]
  },
  {
   "cell_type": "code",
   "execution_count": 20,
   "metadata": {},
   "outputs": [
    {
     "data": {
      "image/png": "[encoded data removed]",
      "text/plain": [
       "<Figure size 153.071x153.071 with 1 Axes>"
      ]
     },
     "metadata": {
      "needs_background": "light"
     },
     "output_type": "display_data"
    }
   ],
   "source": [
    "# Transformer plots\n",
    "idx_min_loss_2 = np.argmin(loss_per_sample2)\n",
    "idx_max_loss_2 = np.argmax(loss_per_sample2)\n",
    "\n",
    "legend_font_size = 6\n",
    "fig, ax = plt.subplots(1, 1, figsize=(5.4 / 2.54, 5.4 / 2.54))\n",
    "i=[0]\n",
    "num= idx_max_loss_2\n",
    "plot = plot_results(prediction_cond2[num][:,i], amplitude_cond2[num][:,i], f, ax)\n",
    "\n",
    "legend_labels = [\"Pred.\", \"Ref.\"]\n",
    "\n",
    "plot.set_title(\"3 masses\")\n",
    "plot.legend(legend_labels, prop = {'size': legend_font_size}, loc = 'lower left')\n",
    "plt.tight_layout()\n",
    "fig.savefig(\"samples_transformer_n3.png\", format='png', dpi = 600)\n",
    "fig.savefig(\"samples_transformer_n3.pdf\", format='pdf')"
   ]
  },
  {
   "cell_type": "code",
   "execution_count": 21,
   "metadata": {},
   "outputs": [
    {
     "data": {
      "image/png": "[encoded data removed]",
      "text/plain": [
       "<Figure size 153.071x153.071 with 1 Axes>"
      ]
     },
     "metadata": {
      "needs_background": "light"
     },
     "output_type": "display_data"
    }
   ],
   "source": [
    "# Transformer plots\n",
    "idx_min_loss_3 = np.argmin(loss_per_sample3)\n",
    "idx_max_loss_3 = np.argmax(loss_per_sample3)\n",
    "\n",
    "\n",
    "legend_font_size = 6\n",
    "fig, ax = plt.subplots(1, 1, figsize=(5.4 / 2.54, 5.4 / 2.54))\n",
    "i=[2]\n",
    "num= idx_max_loss_3\n",
    "plot = plot_results(prediction_cond3[num][:,i], amplitude_cond3[num][:,i], f, ax)\n",
    "\n",
    "legend_labels = [\"Pred. - 5 masses\", \"Ref. - 5 masses\"]\n",
    "\n",
    "plot.set_title(\"5 masses\")\n",
    "plot.legend(legend_labels, prop = {'size': legend_font_size}, loc = 'lower left')\n",
    "plt.tight_layout()\n",
    "fig.savefig(\"samples_transformer_n5.png\", format='png', dpi = 600)\n",
    "fig.savefig(\"samples_transformer_n5.pdf\", format='pdf')"
   ]
  },
  {
   "cell_type": "code",
   "execution_count": 22,
   "metadata": {},
   "outputs": [
    {
     "data": {
      "image/png": "[encoded data removed]",
      "text/plain": [
       "<Figure size 153.071x153.071 with 1 Axes>"
      ]
     },
     "metadata": {
      "needs_background": "light"
     },
     "output_type": "display_data"
    }
   ],
   "source": [
    "# Transformer plots\n",
    "idx_min_loss_4 = np.argmin(loss_per_sample4)\n",
    "idx_max_loss_4 = np.argmax(loss_per_sample4)\n",
    "\n",
    "\n",
    "legend_font_size = 6\n",
    "fig, ax = plt.subplots(1, 1, figsize=(5.4 / 2.54, 5.4 / 2.54))\n",
    "i=[3]\n",
    "num= idx_max_loss_4\n",
    "plot = plot_results(prediction_cond4[num][:,i], amplitude_cond4[num][:,i], f, ax)\n",
    "\n",
    "legend_labels = [\"Pred. - 6 masses\", \"Ref. - 6 masses\"]\n",
    "\n",
    "plot.set_title(\"6 masses\")\n",
    "plot.legend(legend_labels, prop = {'size': legend_font_size}, loc = 'lower left')\n",
    "plt.tight_layout()\n",
    "fig.savefig(\"samples_transformer_n6.png\", format='png', dpi = 600)\n",
    "fig.savefig(\"samples_transformer_n6.pdf\", format='pdf')"
   ]
  },
  {
   "cell_type": "code",
   "execution_count": 23,
   "metadata": {},
   "outputs": [
    {
     "data": {
      "image/png": "[encoded data removed]",
      "text/plain": [
       "<Figure size 153.071x153.071 with 1 Axes>"
      ]
     },
     "metadata": {
      "needs_background": "light"
     },
     "output_type": "display_data"
    }
   ],
   "source": [
    "# Transformer plots\n",
    "idx_min_loss_3 = np.argmin(loss_per_sample3)\n",
    "idx_max_loss_3 = np.argmax(loss_per_sample3)\n",
    "\n",
    "idx_min_loss_4 = np.argmin(loss_per_sample4)\n",
    "idx_max_loss_4 = np.argmax(loss_per_sample4)\n",
    "\n",
    "legend_font_size = 6\n",
    "fig, ax = plt.subplots(1, 1, figsize=(5.4 / 2.54, 5.4 / 2.54))\n",
    "i=[2]\n",
    "num= idx_max_loss_3\n",
    "plot = plot_results(prediction_cond3[num][:,i], amplitude_cond3[num][:,i], f, ax, linestyle= 'dashed')\n",
    "\n",
    "num= idx_max_loss_4\n",
    "plot = plot_results(prediction_cond4[num][:,i], amplitude_cond4[num][:,i], f, ax, linestyle= ':')\n",
    "\n",
    "legend_labels = [\"Pred. n=5\", \"Ref. n=5\", \"Pred. n=6\", \"Ref. n=6\"]\n",
    "\n",
    "plot.set_title(\"5 and 6 masses\")\n",
    "plot.legend(legend_labels, prop = {'size': legend_font_size}, loc = 'lower left')\n",
    "plt.tight_layout()\n",
    "fig.savefig(\"samples_transformer_n5_6.png\", format='png', dpi = 600)\n",
    "fig.savefig(\"samples_transformer_n5_6.pdf\", format='pdf')"
   ]
  },
  {
   "attachments": {},
   "cell_type": "markdown",
   "metadata": {},
   "source": [
    "### finetune on 4 masses ignore"
   ]
  },
  {
   "cell_type": "code",
   "execution_count": null,
   "metadata": {},
   "outputs": [],
   "source": [
    "from acousticnn.mmo import train\n",
    "from acousticnn.utils.builder import build_opti_sche\n",
    "args.seed=1234"
   ]
  },
  {
   "cell_type": "code",
   "execution_count": null,
   "metadata": {},
   "outputs": [],
   "source": [
    "trainloader = get_dataloader_helper(4, 100, False, 16)\n",
    "net.load_state_dict(torch.load(path)[\"model_state_dict\"])\n",
    "optimizer, scheduler = build_opti_sche(net, config)\n",
    "config.epochs = 1000\n",
    "config.scheduler.kwargs.epochs = config.epochs\n",
    "config.scheduler.kwargs.initial_epochs = 50\n",
    "train(args, config, net, trainloader, optimizer, valloader, scheduler=scheduler, logger=None) # 16.83"
   ]
  },
  {
   "cell_type": "code",
   "execution_count": null,
   "metadata": {},
   "outputs": [],
   "source": [
    "trainloader = get_dataloader_helper(4, 250, False, 16)\n",
    "net.load_state_dict(torch.load(path)[\"model_state_dict\"])\n",
    "optimizer, scheduler = build_opti_sche(net, config)\n",
    "config.epochs = 1000\n",
    "config.scheduler.kwargs.epochs = config.epochs\n",
    "config.scheduler.kwargs.initial_epochs = 50\n",
    "train(args, config, net, trainloader, optimizer, valloader, scheduler=scheduler, logger=None) # 1.562"
   ]
  },
  {
   "cell_type": "code",
   "execution_count": null,
   "metadata": {},
   "outputs": [],
   "source": [
    "trainloader = get_dataloader_helper(4, 500, False, 16)\n",
    "net.load_state_dict(torch.load(path)[\"model_state_dict\"])\n",
    "optimizer, scheduler = build_opti_sche(net, config)\n",
    "config.epochs = 1000\n",
    "config.scheduler.kwargs.epochs = config.epochs\n",
    "config.scheduler.kwargs.initial_epochs = 50\n",
    "train(args, config, net, trainloader, optimizer, valloader, scheduler=scheduler, logger=None) #  0.6747"
   ]
  },
  {
   "cell_type": "code",
   "execution_count": null,
   "metadata": {},
   "outputs": [],
   "source": [
    "trainloader = get_dataloader_helper(4, 1000, False, 16)\n",
    "net.load_state_dict(torch.load(path)[\"model_state_dict\"])\n",
    "optimizer, scheduler = build_opti_sche(net, config)\n",
    "config.epochs = 1000\n",
    "config.scheduler.kwargs.epochs = config.epochs\n",
    "config.scheduler.kwargs.initial_epochs = 50\n",
    "train(args, config, net, trainloader, optimizer, valloader, scheduler=scheduler, logger=None) # 0.01"
   ]
  },
  {
   "cell_type": "code",
   "execution_count": null,
   "metadata": {},
   "outputs": [],
   "source": [
    "# see experiments/data_variation\n",
    "n_samples = [100, 250, 500, 1000, 1500, 2000, 4000, 8000]\n",
    "loss = [35.17, 9.987, 1.754, 0.2799, 0.1318, 0.07344, 0.03755,  0.01823]\n",
    "\n",
    "n_samples_finetuning = [100, 250, 500, 1000]\n",
    "loss_finetuning = [22.96, 2.291, 0.6747, 0.2442]\n",
    "\n",
    "plt.semilogy(n_samples, loss, 'o-', label='Training from scratch')\n",
    "plt.semilogy(n_samples_finetuning, loss_finetuning, 'o-', label='Finetuning')\n",
    "\n",
    "# Set labels and title\n",
    "plt.xlabel('Number of Samples')\n",
    "plt.ylabel('MSE (log scale)')\n",
    "plt.title('Comparison of Training from Scratch and Finetuning')\n",
    "\n",
    "# Add legend\n",
    "plt.legend()"
   ]
  }
 ],
 "metadata": {
  "kernelspec": {
   "display_name": "myPython39",
   "language": "python",
   "name": "python3"
  },
  "language_info": {
   "codemirror_mode": {
    "name": "ipython",
    "version": 3
   },
   "file_extension": ".py",
   "mimetype": "text/x-python",
   "name": "python",
   "nbconvert_exporter": "python",
   "pygments_lexer": "ipython3",
   "version": "3.9.13"
  },
  "orig_nbformat": 4
 },
 "nbformat": 4,
 "nbformat_minor": 2
}
