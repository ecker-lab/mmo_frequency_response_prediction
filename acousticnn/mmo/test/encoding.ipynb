{
 "cells": [
  {
   "attachments": {},
   "cell_type": "markdown",
   "metadata": {},
   "source": [
    "# Verify the functionality of encoding Functions"
   ]
  },
  {
   "cell_type": "code",
   "execution_count": null,
   "metadata": {},
   "outputs": [],
   "source": [
    "from acousticNN.model.encoding import pos_enc_sincos, SinosoidalEncoding, PositionalEncoding, FourierEncoding, RandomEncoding\n",
    "import torch\n",
    "import numpy as np\n",
    "import matplotlib.pyplot as plt"
   ]
  },
  {
   "attachments": {},
   "cell_type": "markdown",
   "metadata": {},
   "source": [
    "## test input output"
   ]
  },
  {
   "cell_type": "code",
   "execution_count": null,
   "metadata": {},
   "outputs": [],
   "source": [
    "b, num_tokens = np.random.randint(40, 122, 2)\n",
    "size = (b, num_tokens)\n",
    "dim = np.random.choice(np.arange(50, 256, 2))\n",
    "base = np.random.uniform(0, 10000)\n",
    "random_tensor = torch.from_numpy(np.random.uniform(-1, 5, size)).float()\n",
    "random_tensor = torch.sort(random_tensor, dim=1).values\n",
    "random_tensor_idx = torch.arange(num_tokens).unsqueeze(0).repeat(b, 1).int()\n",
    "print(b, num_tokens, dim, base)"
   ]
  },
  {
   "cell_type": "code",
   "execution_count": null,
   "metadata": {},
   "outputs": [],
   "source": [
    "\n",
    "pos_encoder = PositionalEncoding(dim=dim, base=base)\n",
    "sin_encoder = SinosoidalEncoding(dim=dim, base=base)\n",
    "fourier_encoder = FourierEncoding(dim=dim, n_parameters=num_tokens, factor_pars=(0, 1))\n",
    "random_encoder = RandomEncoding(dim=dim, factor_pars=(0, 1))"
   ]
  },
  {
   "cell_type": "code",
   "execution_count": null,
   "metadata": {},
   "outputs": [],
   "source": [
    "assert torch.all(pos_encoder(random_tensor) == sin_encoder(random_tensor_idx))\n",
    "assert pos_encoder(random_tensor).shape == (b, num_tokens, dim)\n",
    "assert sin_encoder(random_tensor).shape == (b, num_tokens, dim)\n",
    "assert fourier_encoder(random_tensor).shape == (b, num_tokens, dim)\n",
    "assert random_encoder(random_tensor).shape == (b, num_tokens, dim)"
   ]
  },
  {
   "attachments": {},
   "cell_type": "markdown",
   "metadata": {},
   "source": [
    "## test base value"
   ]
  },
  {
   "cell_type": "code",
   "execution_count": null,
   "metadata": {},
   "outputs": [],
   "source": [
    "pos_encoder_base = 10000\n",
    "sin_encoder_base = 0.01\n",
    "pos_encoder = PositionalEncoding(dim=dim, base=pos_encoder_base)\n",
    "sin_encoder = SinosoidalEncoding(dim=dim, base=sin_encoder_base)\n",
    "fourier_encoder = FourierEncoding(dim=dim, n_parameters=num_tokens, factor_pars=(0, 1))\n",
    "random_encoder = RandomEncoding(dim=dim, factor_pars=(0, 1))"
   ]
  },
  {
   "cell_type": "code",
   "execution_count": null,
   "metadata": {},
   "outputs": [],
   "source": [
    "for encoder in [pos_encoder, sin_encoder, fourier_encoder, random_encoder]:\n",
    "    encoding = encoder(random_tensor)\n",
    "    med = torch.median(torch.std(encoding.view(b*num_tokens, -1), dim=0))\n",
    "    print(med)\n",
    "    plt.imshow(encoder(random_tensor)[0], cmap=\"coolwarm\")\n",
    "    plt.xlabel('dim')\n",
    "    plt.ylabel('tokens')\n",
    "    plt.colorbar()\n",
    "    plt.show()"
   ]
  }
 ],
 "metadata": {
  "kernelspec": {
   "display_name": "Python 3",
   "language": "python",
   "name": "python3"
  },
  "language_info": {
   "codemirror_mode": {
    "name": "ipython",
    "version": 3
   },
   "file_extension": ".py",
   "mimetype": "text/x-python",
   "name": "python",
   "nbconvert_exporter": "python",
   "pygments_lexer": "ipython3",
   "version": "3.10.9"
  },
  "orig_nbformat": 4,
  "vscode": {
   "interpreter": {
    "hash": "d8189a3604f5a7d2fca184dff74dee3a2839cf63b8410403ee591430e6b2be14"
   }
  }
 },
 "nbformat": 4,
 "nbformat_minor": 2
}
